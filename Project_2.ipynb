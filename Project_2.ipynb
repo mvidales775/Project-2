{
  "nbformat": 4,
  "nbformat_minor": 0,
  "metadata": {
    "colab": {
      "provenance": [],
      "authorship_tag": "ABX9TyOZPcTZC/GHzyAGf7mSRi2j",
      "include_colab_link": true
    },
    "kernelspec": {
      "name": "python3",
      "display_name": "Python 3"
    },
    "language_info": {
      "name": "python"
    }
  },
  "cells": [
    {
      "cell_type": "markdown",
      "metadata": {
        "id": "view-in-github",
        "colab_type": "text"
      },
      "source": [
        "<a href=\"https://colab.research.google.com/github/mvidales775/Project-2/blob/main/Project_2.ipynb\" target=\"_parent\"><img src=\"https://colab.research.google.com/assets/colab-badge.svg\" alt=\"Open In Colab\"/></a>"
      ]
    },
    {
      "cell_type": "code",
      "execution_count": null,
      "metadata": {
        "id": "TAi3fuLovp9u"
      },
      "outputs": [],
      "source": []
    },
    {
      "cell_type": "markdown",
      "source": [
        "##First choice: Cirrhosis Prediction Dataset"
      ],
      "metadata": {
        "id": "zwc2Bdi5vzbu"
      }
    },
    {
      "cell_type": "markdown",
      "source": [
        "1. Source of data\n",
        "  - https://www.kaggle.com/datasets/fedesoriano/cirrhosis-prediction-dataset\n",
        "\n",
        "2. Brief descrip\n",
        "  - contains dataset of 418 cases that met eligibility criteria for the randomized placebo-controlled trial of the drug D-penicillamine over a ten year period.\n",
        "\n",
        "3. What is the target?\n",
        "  - Drug: type of drug D-penicillamine or placebo\n",
        "\n",
        "4. What does one row represent? (A person? A business? An event? A product?)\n",
        "  - Each row repreesents a person\n",
        "\n",
        "5. Is this a classification or regression problem?\n",
        "  - Classification, trying to determine if a person recived either D-penicillamine or placebo\n",
        "\n",
        "6. How many features does the data have?\n",
        "  - There are 18 features\n",
        "\n",
        "7. How many rows are in the dataset?\n",
        "  - There are 418 rows\n",
        "\n",
        "8. What, if any, challenges do you foresee in cleaning, exploring, or modeling this dataset?\n",
        "  - This dataset has a few features with missing values including the the target which could lead to a low outcome for the model."
      ],
      "metadata": {
        "id": "v04FbhRcv50f"
      }
    },
    {
      "cell_type": "markdown",
      "source": [
        "##Second choice: Adult income dataset"
      ],
      "metadata": {
        "id": "tOwxdpsIv1Y3"
      }
    },
    {
      "cell_type": "markdown",
      "source": [
        "1. Source of data\n",
        "  - https://www.kaggle.com/datasets/wenruliu/adult-income-dataset\n",
        "\n",
        "2. Brief description of data\n",
        "\n",
        "\n",
        "3. What is the target?\n",
        "  - two income groups: <=50K and >50K\n",
        "\n",
        "4. What does one row represent? (A person? A business? An event? A product?)\n",
        "  - Each row is a person\n",
        "\n",
        "5. Is this a classification or regression problem?\n",
        "  - since there are two income groups it is a classification problem\n",
        "\n",
        "6. How many features does the data have?\n",
        "  - there are 13 features\n",
        "\n",
        "7. How many rows are in the dataset?\n",
        "  - there are 48842 rows\n",
        "\n",
        "8. What, if any, challenges do you foresee in cleaning, exploring, or modeling this dataset?\n",
        "  - This dataset has alot of data with no null values, i do not see any problems at the moment."
      ],
      "metadata": {
        "id": "dnn9XOxrv7cJ"
      }
    }
  ]
}